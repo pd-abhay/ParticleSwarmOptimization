{
 "cells": [
  {
   "cell_type": "code",
   "execution_count": 1,
   "id": "d8a97cd1",
   "metadata": {},
   "outputs": [
    {
     "name": "stdout",
     "output_type": "stream",
     "text": [
      "CPU times: total: 3.45 s\n",
      "Wall time: 34 s\n"
     ]
    }
   ],
   "source": [
    "%%time\n",
    "import numpy as np\n",
    "import pandas as pd\n",
    "import matplotlib.pyplot as plt\n",
    "import seaborn as sns\n",
    "\n",
    "from sklearn.datasets import load_breast_cancer\n",
    "from sklearn.preprocessing import StandardScaler\n",
    "from sklearn.model_selection import train_test_split\n",
    "from sklearn.linear_model import LogisticRegression\n",
    "from sklearn.metrics import classification_report, confusion_matrix, accuracy_score, f1_score, precision_score, recall_score, roc_auc_score, roc_curve, auc\n",
    "\n",
    "import warnings\n",
    "warnings.filterwarnings('ignore')\n",
    "import time"
   ]
  },
  {
   "cell_type": "code",
   "execution_count": 2,
   "id": "cdf83e98",
   "metadata": {},
   "outputs": [
    {
     "data": {
      "text/html": [
       "<div>\n",
       "<style scoped>\n",
       "    .dataframe tbody tr th:only-of-type {\n",
       "        vertical-align: middle;\n",
       "    }\n",
       "\n",
       "    .dataframe tbody tr th {\n",
       "        vertical-align: top;\n",
       "    }\n",
       "\n",
       "    .dataframe thead th {\n",
       "        text-align: right;\n",
       "    }\n",
       "</style>\n",
       "<table border=\"1\" class=\"dataframe\">\n",
       "  <thead>\n",
       "    <tr style=\"text-align: right;\">\n",
       "      <th></th>\n",
       "      <th>mean radius</th>\n",
       "      <th>mean texture</th>\n",
       "      <th>mean perimeter</th>\n",
       "      <th>mean area</th>\n",
       "      <th>mean smoothness</th>\n",
       "      <th>mean compactness</th>\n",
       "      <th>mean concavity</th>\n",
       "      <th>mean concave points</th>\n",
       "      <th>mean symmetry</th>\n",
       "      <th>mean fractal dimension</th>\n",
       "      <th>...</th>\n",
       "      <th>worst texture</th>\n",
       "      <th>worst perimeter</th>\n",
       "      <th>worst area</th>\n",
       "      <th>worst smoothness</th>\n",
       "      <th>worst compactness</th>\n",
       "      <th>worst concavity</th>\n",
       "      <th>worst concave points</th>\n",
       "      <th>worst symmetry</th>\n",
       "      <th>worst fractal dimension</th>\n",
       "      <th>target</th>\n",
       "    </tr>\n",
       "  </thead>\n",
       "  <tbody>\n",
       "    <tr>\n",
       "      <th>0</th>\n",
       "      <td>17.99</td>\n",
       "      <td>10.38</td>\n",
       "      <td>122.80</td>\n",
       "      <td>1001.0</td>\n",
       "      <td>0.11840</td>\n",
       "      <td>0.27760</td>\n",
       "      <td>0.3001</td>\n",
       "      <td>0.14710</td>\n",
       "      <td>0.2419</td>\n",
       "      <td>0.07871</td>\n",
       "      <td>...</td>\n",
       "      <td>17.33</td>\n",
       "      <td>184.60</td>\n",
       "      <td>2019.0</td>\n",
       "      <td>0.1622</td>\n",
       "      <td>0.6656</td>\n",
       "      <td>0.7119</td>\n",
       "      <td>0.2654</td>\n",
       "      <td>0.4601</td>\n",
       "      <td>0.11890</td>\n",
       "      <td>0</td>\n",
       "    </tr>\n",
       "    <tr>\n",
       "      <th>1</th>\n",
       "      <td>20.57</td>\n",
       "      <td>17.77</td>\n",
       "      <td>132.90</td>\n",
       "      <td>1326.0</td>\n",
       "      <td>0.08474</td>\n",
       "      <td>0.07864</td>\n",
       "      <td>0.0869</td>\n",
       "      <td>0.07017</td>\n",
       "      <td>0.1812</td>\n",
       "      <td>0.05667</td>\n",
       "      <td>...</td>\n",
       "      <td>23.41</td>\n",
       "      <td>158.80</td>\n",
       "      <td>1956.0</td>\n",
       "      <td>0.1238</td>\n",
       "      <td>0.1866</td>\n",
       "      <td>0.2416</td>\n",
       "      <td>0.1860</td>\n",
       "      <td>0.2750</td>\n",
       "      <td>0.08902</td>\n",
       "      <td>0</td>\n",
       "    </tr>\n",
       "    <tr>\n",
       "      <th>2</th>\n",
       "      <td>19.69</td>\n",
       "      <td>21.25</td>\n",
       "      <td>130.00</td>\n",
       "      <td>1203.0</td>\n",
       "      <td>0.10960</td>\n",
       "      <td>0.15990</td>\n",
       "      <td>0.1974</td>\n",
       "      <td>0.12790</td>\n",
       "      <td>0.2069</td>\n",
       "      <td>0.05999</td>\n",
       "      <td>...</td>\n",
       "      <td>25.53</td>\n",
       "      <td>152.50</td>\n",
       "      <td>1709.0</td>\n",
       "      <td>0.1444</td>\n",
       "      <td>0.4245</td>\n",
       "      <td>0.4504</td>\n",
       "      <td>0.2430</td>\n",
       "      <td>0.3613</td>\n",
       "      <td>0.08758</td>\n",
       "      <td>0</td>\n",
       "    </tr>\n",
       "    <tr>\n",
       "      <th>3</th>\n",
       "      <td>11.42</td>\n",
       "      <td>20.38</td>\n",
       "      <td>77.58</td>\n",
       "      <td>386.1</td>\n",
       "      <td>0.14250</td>\n",
       "      <td>0.28390</td>\n",
       "      <td>0.2414</td>\n",
       "      <td>0.10520</td>\n",
       "      <td>0.2597</td>\n",
       "      <td>0.09744</td>\n",
       "      <td>...</td>\n",
       "      <td>26.50</td>\n",
       "      <td>98.87</td>\n",
       "      <td>567.7</td>\n",
       "      <td>0.2098</td>\n",
       "      <td>0.8663</td>\n",
       "      <td>0.6869</td>\n",
       "      <td>0.2575</td>\n",
       "      <td>0.6638</td>\n",
       "      <td>0.17300</td>\n",
       "      <td>0</td>\n",
       "    </tr>\n",
       "    <tr>\n",
       "      <th>4</th>\n",
       "      <td>20.29</td>\n",
       "      <td>14.34</td>\n",
       "      <td>135.10</td>\n",
       "      <td>1297.0</td>\n",
       "      <td>0.10030</td>\n",
       "      <td>0.13280</td>\n",
       "      <td>0.1980</td>\n",
       "      <td>0.10430</td>\n",
       "      <td>0.1809</td>\n",
       "      <td>0.05883</td>\n",
       "      <td>...</td>\n",
       "      <td>16.67</td>\n",
       "      <td>152.20</td>\n",
       "      <td>1575.0</td>\n",
       "      <td>0.1374</td>\n",
       "      <td>0.2050</td>\n",
       "      <td>0.4000</td>\n",
       "      <td>0.1625</td>\n",
       "      <td>0.2364</td>\n",
       "      <td>0.07678</td>\n",
       "      <td>0</td>\n",
       "    </tr>\n",
       "  </tbody>\n",
       "</table>\n",
       "<p>5 rows × 31 columns</p>\n",
       "</div>"
      ],
      "text/plain": [
       "   mean radius  mean texture  mean perimeter  mean area  mean smoothness  \\\n",
       "0        17.99         10.38          122.80     1001.0          0.11840   \n",
       "1        20.57         17.77          132.90     1326.0          0.08474   \n",
       "2        19.69         21.25          130.00     1203.0          0.10960   \n",
       "3        11.42         20.38           77.58      386.1          0.14250   \n",
       "4        20.29         14.34          135.10     1297.0          0.10030   \n",
       "\n",
       "   mean compactness  mean concavity  mean concave points  mean symmetry  \\\n",
       "0           0.27760          0.3001              0.14710         0.2419   \n",
       "1           0.07864          0.0869              0.07017         0.1812   \n",
       "2           0.15990          0.1974              0.12790         0.2069   \n",
       "3           0.28390          0.2414              0.10520         0.2597   \n",
       "4           0.13280          0.1980              0.10430         0.1809   \n",
       "\n",
       "   mean fractal dimension  ...  worst texture  worst perimeter  worst area  \\\n",
       "0                 0.07871  ...          17.33           184.60      2019.0   \n",
       "1                 0.05667  ...          23.41           158.80      1956.0   \n",
       "2                 0.05999  ...          25.53           152.50      1709.0   \n",
       "3                 0.09744  ...          26.50            98.87       567.7   \n",
       "4                 0.05883  ...          16.67           152.20      1575.0   \n",
       "\n",
       "   worst smoothness  worst compactness  worst concavity  worst concave points  \\\n",
       "0            0.1622             0.6656           0.7119                0.2654   \n",
       "1            0.1238             0.1866           0.2416                0.1860   \n",
       "2            0.1444             0.4245           0.4504                0.2430   \n",
       "3            0.2098             0.8663           0.6869                0.2575   \n",
       "4            0.1374             0.2050           0.4000                0.1625   \n",
       "\n",
       "   worst symmetry  worst fractal dimension  target  \n",
       "0          0.4601                  0.11890       0  \n",
       "1          0.2750                  0.08902       0  \n",
       "2          0.3613                  0.08758       0  \n",
       "3          0.6638                  0.17300       0  \n",
       "4          0.2364                  0.07678       0  \n",
       "\n",
       "[5 rows x 31 columns]"
      ]
     },
     "execution_count": 2,
     "metadata": {},
     "output_type": "execute_result"
    }
   ],
   "source": [
    "data = load_breast_cancer()\n",
    "df = pd.DataFrame(data.data, columns=data.feature_names)\n",
    "df['target'] = data.target\n",
    "df.head()"
   ]
  },
  {
   "cell_type": "code",
   "execution_count": 3,
   "id": "9d26731b",
   "metadata": {},
   "outputs": [],
   "source": [
    "X = df.drop('target', axis=1)\n",
    "y = df['target']"
   ]
  },
  {
   "cell_type": "code",
   "execution_count": 4,
   "id": "27b8fef7",
   "metadata": {},
   "outputs": [
    {
     "data": {
      "text/plain": [
       "0    0\n",
       "1    0\n",
       "2    0\n",
       "3    0\n",
       "4    0\n",
       "Name: target, dtype: int64"
      ]
     },
     "execution_count": 4,
     "metadata": {},
     "output_type": "execute_result"
    }
   ],
   "source": [
    "y.head() #target variable is in 0 and 1"
   ]
  },
  {
   "cell_type": "code",
   "execution_count": 5,
   "id": "894d6f35",
   "metadata": {},
   "outputs": [
    {
     "data": {
      "text/plain": [
       "target\n",
       "1    357\n",
       "0    212\n",
       "Name: count, dtype: int64"
      ]
     },
     "execution_count": 5,
     "metadata": {},
     "output_type": "execute_result"
    }
   ],
   "source": [
    "y.value_counts()\n",
    "# 0: malignant, 1: benign"
   ]
  },
  {
   "cell_type": "code",
   "execution_count": 6,
   "id": "1cab9c82",
   "metadata": {},
   "outputs": [
    {
     "data": {
      "text/plain": [
       "np.int64(0)"
      ]
     },
     "execution_count": 6,
     "metadata": {},
     "output_type": "execute_result"
    }
   ],
   "source": [
    "y.isna().sum() # no missing values"
   ]
  },
  {
   "cell_type": "code",
   "execution_count": 7,
   "id": "34e6f872",
   "metadata": {},
   "outputs": [],
   "source": [
    "#Splitting into training (70%) and test sets (30%).\n",
    "X_train, X_test, y_train, y_test = train_test_split(X, y, test_size=0.3, random_state=42)"
   ]
  },
  {
   "cell_type": "markdown",
   "id": "0696da9c",
   "metadata": {},
   "source": [
    "# **Creating Class \"Particle Swarm Optimization\"**"
   ]
  },
  {
   "cell_type": "code",
   "execution_count": 8,
   "id": "fdfba911",
   "metadata": {},
   "outputs": [],
   "source": [
    "class apply_PSO:\n",
    "    def __init__(self, X_train,y_train,lambda_term = 0.01, penalty = 'no',n_iterations = 100, n_particles = 30, w = 0.7, c1 = 1.5, c2 = 1.5):\n",
    "        # Initialize parameters\n",
    "        self.X_train = X_train                                                                      #Feature matrix\n",
    "        self.y_train = y_train                                                                      #Target variable     \n",
    "        self.X_test = X_test                                                                        #Test feature matrix\n",
    "        self.y_test = y_test                                                                        #Test target variable \n",
    "        #Hyperparameters\n",
    "        self.lambda_term = lambda_term                                                              #Regularization parameter\n",
    "        self.penalty = penalty                                                                      #Regularization type (l1, l2, or no)\n",
    "        self.n_iterations = n_iterations                                                            #Number of iterations for PSO\n",
    "        self.n_particles = n_particles                                                              #Number of particles in the swarm\n",
    "        self.w = w                                                                                  #Inertia weight\n",
    "        self.c1 = c1                                                                                #Cognitive coefficient  \n",
    "        self.c2 = c2                                                                                #Social coefficient\n",
    "        # Initialize particles\n",
    "        self.dim = X_train.shape[1]                                                                 #Number of features\n",
    "        self.positions = np.random.uniform(-1, 1, (self.n_particles, self.dim))                     #Initial positions of particles\n",
    "        self.velocities = np.random.uniform(0.1, 1, (self.n_particles, self.dim))                   #Initial velocities of particles\n",
    "        self.personal_best_positions = self.positions.copy()                                        #Personal best positions of particles\n",
    "        self.personal_best_scores = np.array([self.log_loss_reg(pos) for pos in self.positions])    #Personal best scores of particles\n",
    "        self.global_best_index = np.argmin(self.personal_best_scores)                               #Index of the global best particle\n",
    "        self.global_best_position = self.positions[self.global_best_index].copy()                   #Global best position \n",
    "        self.global_best_score = self.personal_best_scores[self.global_best_index]                  #Global best score\n",
    "        \n",
    "        self.training_loss = []                                                                     #List to store training loss for plotting\n",
    "    \n",
    "    def log_loss_reg(self, beta):                                                                   #Logistic loss function with regularization\n",
    "        z = np.dot(self.X_train, beta)\n",
    "        p = 1 / (1 + np.exp(-z))\n",
    "        epsilon = 1e-15  # To avoid log(0)\n",
    "        #p = np.clip(p, epsilon, 1 - epsilon)  # Clip p to avoid log(0)\n",
    "        loss = -np.mean(self.y_train * np.log(p + epsilon) + (1 - self.y_train) * np.log(1 - p + epsilon))\n",
    "        if self.penalty.lower == 'l1':\n",
    "            reg = self.lambda_term * np.sum(np.abs(beta))\n",
    "        elif self.penalty.lower == 'l2':\n",
    "            reg = self.lambda_term * np.sum(beta ** 2)\n",
    "        else:\n",
    "            reg = 0\n",
    "        return (loss + reg)\n",
    "    \n",
    "    def optimize(self):                                                                             #Optimization function using PSO\n",
    "        for iter in range(self.n_iterations):\n",
    "            for particle in range(self.n_particles):\n",
    "                #Update Velocity\n",
    "                r1 = np.random.rand(self.dim)\n",
    "                r2 = np.random.rand(self.dim)\n",
    "                self.velocities[particle] = (self.w * self.velocities[particle]) + self.c1 * r1 * (self.personal_best_positions[particle] - self.positions[particle]) + self.c2 * r2 * (self.global_best_position - self.positions[particle])\n",
    "                #Update Position\n",
    "                self.positions[particle] += self.velocities[particle]\n",
    "                #Evaluate new position\n",
    "                score = self.log_loss_reg(self.positions[particle])\n",
    "                #Update Personal Best\n",
    "                if score < self.personal_best_scores[particle]:\n",
    "                    self.personal_best_scores[particle] = score\n",
    "                    self.personal_best_positions[particle] = self.positions[particle].copy()\n",
    "                #Update Global Best\n",
    "                if score < self.global_best_score:\n",
    "                    self.global_best_score = score\n",
    "                    self.global_best_position = self.positions[particle].copy()\n",
    "                \n",
    "            # Store training loss for plotting\n",
    "            self.training_loss.append(self.global_best_score)\n",
    "        # Final best position\n",
    "        plt.figure(figsize=(6,4))\n",
    "        plt.plot(self.training_loss, label='Training Loss')\n",
    "        plt.title(f'Training Loss Over Iterations for {self.penalty} penalty')\n",
    "        plt.xlabel('Iterations')\n",
    "        plt.ylabel('Loss')\n",
    "        plt.legend()\n",
    "        plt.grid()\n",
    "        plt.show()\n",
    "\n",
    "        # # Output results\n",
    "        print(\"\\nOptimization complete.\")\n",
    "        print(f\"Best Beta Coefficients: \\n{self.global_best_position}\")\n",
    "        print(f\"\\nBest Loss: {self.global_best_score}\")\n",
    "    \n",
    "    def predict(self, X_test):\n",
    "        z = np.dot(X_test, self.global_best_position)\n",
    "        p = 1 / (1 + np.exp(-z))\n",
    "        y_pred =  (p > 0.5).astype(int)\n",
    "        return y_pred\n",
    "    \n",
    "    def evaluate(self, X_test, y_test):\n",
    "        y_pred = self.predict(X_test)\n",
    "        accuracy = accuracy_score(y_test, y_pred)\n",
    "        f1 = f1_score(y_test, y_pred)\n",
    "        precision = precision_score(y_test, y_pred)\n",
    "        recall = recall_score(y_test, y_pred)\n",
    "        roc_auc = roc_auc_score(y_test, y_pred)\n",
    "        \n",
    "        print(f\"\\nEvaluation Metrics with respect to {self.penalty} penalty:\\n\")\n",
    "        print(f\"Accuracy: {accuracy:.4f}\")\n",
    "        print(f\"F1 Score: {f1:.4f}\")\n",
    "        print(f\"Precision: {precision:.4f}\")\n",
    "        print(f\"Recall: {recall:.4f}\")\n",
    "        print(f\"ROC AUC: {roc_auc:.4f}\\n\\n\")\n"
   ]
  },
  {
   "cell_type": "markdown",
   "id": "092aeae4",
   "metadata": {},
   "source": [
    "**PSO with No penalty**"
   ]
  },
  {
   "cell_type": "code",
   "execution_count": 9,
   "id": "e05d1331",
   "metadata": {},
   "outputs": [
    {
     "data": {
      "image/png": "[encoded data removed]",
      "text/plain": [
       "<Figure size 600x400 with 1 Axes>"
      ]
     },
     "metadata": {},
     "output_type": "display_data"
    },
    {
     "name": "stdout",
     "output_type": "stream",
     "text": [
      "\n",
      "Optimization complete.\n",
      "Best Beta Coefficients: \n",
      "[-1.40285173 -0.00443722  0.50403799  0.12014771  0.09331721  0.60389044\n",
      "  0.77647582 -0.32108088  1.28938057  1.05599637  2.17155517  0.31226437\n",
      " -1.08193233 -0.10490649  0.78952771  0.96933085  0.39695487  1.79508722\n",
      " -1.2369958  -2.13726537  1.40317924 -0.80664757  0.77547434 -0.22523851\n",
      " -0.43909242 -0.51973128 -0.98191114 -0.56931845 -1.72568304  0.38931681]\n",
      "\n",
      "Best Loss: 0.6663237341282402\n",
      "\n",
      "Evaluation Metrics with respect to no penalty:\n",
      "\n",
      "Accuracy: 0.9532\n",
      "F1 Score: 0.9626\n",
      "Precision: 0.9717\n",
      "Recall: 0.9537\n",
      "ROC AUC: 0.9530\n",
      "\n",
      "\n",
      "CPU times: total: 1.41 s\n",
      "Wall time: 1.96 s\n"
     ]
    }
   ],
   "source": [
    "%%time\n",
    "#No penalty\n",
    "pso_lr = apply_PSO(X_train, y_train, lambda_term=0.01, penalty = 'no',n_iterations=100, n_particles=30)\n",
    "pso_lr.optimize()\n",
    "pso_lr.predict(X_test)\n",
    "pso_lr.evaluate(X_test, y_test)"
   ]
  },
  {
   "cell_type": "markdown",
   "id": "8c4eea0c",
   "metadata": {},
   "source": [
    "**PSO with Penalty**"
   ]
  },
  {
   "cell_type": "code",
   "execution_count": 10,
   "id": "d2248f54",
   "metadata": {},
   "outputs": [
    {
     "data": {
      "image/png": "[encoded data removed]",
      "text/plain": [
       "<Figure size 600x400 with 1 Axes>"
      ]
     },
     "metadata": {},
     "output_type": "display_data"
    },
    {
     "name": "stdout",
     "output_type": "stream",
     "text": [
      "\n",
      "Optimization complete.\n",
      "Best Beta Coefficients: \n",
      "[  0.6924332    0.48792906  -1.31895654   0.30948024   0.03801567\n",
      "   1.61308792  -0.59694657  -1.91533515  -0.65973683  -0.43190127\n",
      "  -0.4923959    1.5518423    5.09351505  -0.83697672  -0.85771594\n",
      "   0.34010387  -2.08244065   0.0770115    4.90689667   1.38582897\n",
      "   2.11707956  -2.53363268   3.21901809  -0.47611783   1.8660372\n",
      "  -1.54975149   3.06543092   0.9940136  -17.73482372  -5.60781887]\n",
      "\n",
      "Best Loss: 1.3659049772052656\n",
      "\n",
      "Evaluation Metrics with respect to L1 penalty:\n",
      "\n",
      "Accuracy: 0.9357\n",
      "F1 Score: 0.9488\n",
      "Precision: 0.9533\n",
      "Recall: 0.9444\n",
      "ROC AUC: 0.9325\n",
      "\n",
      "\n",
      "CPU times: total: 1.42 s\n",
      "Wall time: 1.42 s\n"
     ]
    }
   ],
   "source": [
    "%%time\n",
    "#L1 penalty\n",
    "pso_lr = apply_PSO(X_train, y_train, lambda_term=0.01, penalty = 'L1',n_iterations=100, n_particles=30)\n",
    "pso_lr.optimize()\n",
    "pso_lr.predict(X_test)\n",
    "pso_lr.evaluate(X_test, y_test)"
   ]
  },
  {
   "cell_type": "code",
   "execution_count": 11,
   "id": "fd537dc2",
   "metadata": {},
   "outputs": [
    {
     "data": {
      "image/png": "[encoded data removed]",
      "text/plain": [
       "<Figure size 600x400 with 1 Axes>"
      ]
     },
     "metadata": {},
     "output_type": "display_data"
    },
    {
     "name": "stdout",
     "output_type": "stream",
     "text": [
      "\n",
      "Optimization complete.\n",
      "Best Beta Coefficients: \n",
      "[-0.38072808 -0.39073995  0.78336226  0.12893925 -3.93867338  1.40988276\n",
      "  0.74996639  1.73955763 -1.22679338  1.23869798  1.24938253  1.23422764\n",
      "  2.38058849 -0.52612519 -2.15317593  0.82481786  0.32788228  0.01332232\n",
      "  0.74421983 -0.00738818  0.8458824  -0.55593519  0.1438302  -0.18209386\n",
      "  0.39706771 -0.26070847 -0.27724025  0.91329768  2.19574809 -0.8650483 ]\n",
      "\n",
      "Best Loss: 0.6939673834328275\n",
      "\n",
      "Evaluation Metrics with respect to L2 penalty:\n",
      "\n",
      "Accuracy: 0.9415\n",
      "F1 Score: 0.9528\n",
      "Precision: 0.9712\n",
      "Recall: 0.9352\n",
      "ROC AUC: 0.9438\n",
      "\n",
      "\n",
      "CPU times: total: 1.42 s\n",
      "Wall time: 1.42 s\n"
     ]
    }
   ],
   "source": [
    "%%time\n",
    "#L2 penalty\n",
    "pso_lr = apply_PSO(X_train, y_train, lambda_term=0.01, penalty = 'L2',n_iterations=100, n_particles=30)\n",
    "pso_lr.optimize()\n",
    "pso_lr.predict(X_test)\n",
    "pso_lr.evaluate(X_test, y_test)"
   ]
  },
  {
   "cell_type": "markdown",
   "id": "b9db8408",
   "metadata": {},
   "source": [
    "**Hyperparameter Tuning**"
   ]
  },
  {
   "cell_type": "code",
   "execution_count": 12,
   "id": "a7c9af08",
   "metadata": {},
   "outputs": [
    {
     "data": {
      "image/png": "[encoded data removed]",
      "text/plain": [
       "<Figure size 600x400 with 1 Axes>"
      ]
     },
     "metadata": {},
     "output_type": "display_data"
    },
    {
     "name": "stdout",
     "output_type": "stream",
     "text": [
      "\n",
      "Optimization complete.\n",
      "Best Beta Coefficients: \n",
      "[ 1.94103147  0.32972949  1.65342159  0.49966735  0.99046736 -0.54751984\n",
      "  0.11500252  1.79035688  2.56433992  1.69446892 -0.92254027  2.42052579\n",
      "  0.94320398 -0.79036003  0.03383848  0.43865065  1.84816728  0.65742626\n",
      "  1.99833602 -0.51825287  2.26119824  0.55800823 -1.07291646 -0.48596807\n",
      "  0.68361429 -2.60797164  1.62394061 -0.20997668  1.24713963  0.69890683]\n",
      "\n",
      "Best Loss: 2.7304254824670804\n",
      "\n",
      "Evaluation Metrics with respect to L1 penalty:\n",
      "\n",
      "Accuracy: 0.9357\n",
      "F1 Score: 0.9515\n",
      "Precision: 0.9076\n",
      "Recall: 1.0000\n",
      "ROC AUC: 0.9127\n",
      "\n",
      "\n",
      "CPU times: total: 1.88 s\n",
      "Wall time: 1.9 s\n"
     ]
    }
   ],
   "source": [
    "%%time\n",
    "#L1 penalty\n",
    "pso_lr = apply_PSO(X_train, y_train, lambda_term=0.01, penalty = 'L1',n_iterations=100, n_particles=40, w = 0.9, c1 = 1.5, c2 = 2.0)\n",
    "pso_lr.optimize()\n",
    "pso_lr.predict(X_test)\n",
    "pso_lr.evaluate(X_test, y_test)"
   ]
  },
  {
   "cell_type": "markdown",
   "id": "f90cfefe",
   "metadata": {},
   "source": [
    "### **LOGISTIC REGRESSION**"
   ]
  },
  {
   "cell_type": "code",
   "execution_count": 13,
   "id": "8dccbd4b",
   "metadata": {},
   "outputs": [],
   "source": [
    "logreg = LogisticRegression(penalty='l1', C=1/0.01, solver='liblinear', max_iter=1000)"
   ]
  },
  {
   "cell_type": "code",
   "execution_count": 14,
   "id": "48917fb6",
   "metadata": {},
   "outputs": [],
   "source": [
    "logreg.fit(X_train, y_train)\n",
    "y_pred = logreg.predict(X_test)"
   ]
  },
  {
   "cell_type": "code",
   "execution_count": 15,
   "id": "b5a474f8",
   "metadata": {},
   "outputs": [
    {
     "name": "stdout",
     "output_type": "stream",
     "text": [
      "[[ 1.26867020e+00 -7.88832663e-02  1.55005498e-01 -1.21083060e-02\n",
      "   0.00000000e+00  3.56737575e+01  0.00000000e+00 -1.61557178e+02\n",
      "   3.27202451e+01  0.00000000e+00 -4.12453058e+00  2.13228288e+00\n",
      "   3.40763015e-01 -2.20913580e-01  0.00000000e+00  0.00000000e+00\n",
      "   5.00474820e+01  0.00000000e+00  0.00000000e+00  0.00000000e+00\n",
      "   2.55605940e-01 -4.85469624e-01  9.63808532e-02 -2.09510955e-02\n",
      "   0.00000000e+00  1.74842202e+01 -2.45636440e+01 -3.25899815e+01\n",
      "  -3.41127917e+01  0.00000000e+00]]\n"
     ]
    }
   ],
   "source": [
    "print(logreg.coef_)"
   ]
  },
  {
   "cell_type": "code",
   "execution_count": 16,
   "id": "460ab89a",
   "metadata": {},
   "outputs": [],
   "source": [
    "d = logreg.coef_"
   ]
  },
  {
   "cell_type": "code",
   "execution_count": 17,
   "id": "20254539",
   "metadata": {},
   "outputs": [
    {
     "name": "stdout",
     "output_type": "stream",
     "text": [
      "[9.72090638]\n"
     ]
    }
   ],
   "source": [
    "print(logreg.intercept_)"
   ]
  },
  {
   "cell_type": "code",
   "execution_count": 18,
   "id": "6cb77216",
   "metadata": {},
   "outputs": [
    {
     "data": {
      "text/plain": [
       "concavity error             50.047482\n",
       "mean compactness            35.673758\n",
       "mean symmetry               32.720245\n",
       "worst compactness           17.484220\n",
       "intercept                    9.720906\n",
       "texture error                2.132283\n",
       "mean radius                  1.268670\n",
       "perimeter error              0.340763\n",
       "worst radius                 0.255606\n",
       "mean perimeter               0.155005\n",
       "worst perimeter              0.096381\n",
       "smoothness error             0.000000\n",
       "mean fractal dimension       0.000000\n",
       "mean smoothness              0.000000\n",
       "mean concavity               0.000000\n",
       "worst fractal dimension      0.000000\n",
       "fractal dimension error      0.000000\n",
       "worst smoothness             0.000000\n",
       "compactness error            0.000000\n",
       "symmetry error               0.000000\n",
       "concave points error         0.000000\n",
       "mean area                   -0.012108\n",
       "worst area                  -0.020951\n",
       "mean texture                -0.078883\n",
       "area error                  -0.220914\n",
       "worst texture               -0.485470\n",
       "radius error                -4.124531\n",
       "worst concavity            -24.563644\n",
       "worst concave points       -32.589981\n",
       "worst symmetry             -34.112792\n",
       "mean concave points       -161.557178\n",
       "dtype: float64"
      ]
     },
     "execution_count": 18,
     "metadata": {},
     "output_type": "execute_result"
    }
   ],
   "source": [
    "coeffs = pd.Series(logreg.coef_[0], index=data.feature_names)\n",
    "coeffs['intercept'] = logreg.intercept_[0]\n",
    "\n",
    "coeffs = coeffs.sort_values(ascending=False)\n",
    "\n",
    "coeffs"
   ]
  },
  {
   "cell_type": "markdown",
   "id": "3a469d11",
   "metadata": {},
   "source": [
    "**LOGISTIC REGRESSION WITH L2 PENALTY**"
   ]
  },
  {
   "cell_type": "code",
   "execution_count": 19,
   "id": "2f57cd7d",
   "metadata": {},
   "outputs": [],
   "source": [
    "logreg2 = LogisticRegression(penalty='l2', C=1/0.01, solver='liblinear', max_iter=1000)"
   ]
  },
  {
   "cell_type": "code",
   "execution_count": 20,
   "id": "86abbdc0",
   "metadata": {},
   "outputs": [],
   "source": [
    "logreg2.fit(X_train, y_train)\n",
    "y_pred = logreg2.predict(X_test)"
   ]
  },
  {
   "cell_type": "code",
   "execution_count": 21,
   "id": "4723b699",
   "metadata": {},
   "outputs": [],
   "source": [
    "s = logreg2.coef_"
   ]
  },
  {
   "cell_type": "code",
   "execution_count": 22,
   "id": "ac11f39b",
   "metadata": {},
   "outputs": [
    {
     "name": "stdout",
     "output_type": "stream",
     "text": [
      "[[ 6.65646311e+00  2.67153897e-01 -6.12658857e-01 -2.86006143e-02\n",
      "  -1.79056458e+00 -5.81997278e-01 -3.18006214e+00 -4.37176166e+00\n",
      "  -1.80440562e+00  2.64133438e-01 -1.36554708e+00  3.93116805e+00\n",
      "   5.18155464e-01 -2.02429714e-01 -2.76580060e-01  1.81462203e+00\n",
      "   2.24164356e+00 -4.09204739e-01 -1.92593415e-01  3.47398552e-01\n",
      "  -8.77214992e-01 -6.71570490e-01  1.37562030e-01 -5.69801107e-03\n",
      "  -3.45021884e+00  5.98937408e-01 -5.63562966e+00 -6.80166360e+00\n",
      "  -6.76546313e+00  6.60348114e-01]]\n"
     ]
    }
   ],
   "source": [
    "print(logreg2.coef_)"
   ]
  },
  {
   "cell_type": "code",
   "execution_count": 23,
   "id": "7e67aa81",
   "metadata": {},
   "outputs": [
    {
     "data": {
      "image/png": "[encoded data removed]",
      "text/plain": [
       "<Figure size 800x600 with 1 Axes>"
      ]
     },
     "metadata": {},
     "output_type": "display_data"
    }
   ],
   "source": [
    "#plot d vs s\n",
    "plt.figure(figsize=(8, 6))\n",
    "plt.scatter(d, s, alpha=0.7)\n",
    "plt.xlabel('L1 Coefficients')\n",
    "plt.ylabel('L2 Coefficients')\n",
    "plt.title('L1 vs L2 Coefficients')\n",
    "plt.grid()\n",
    "plt.axhline(0, color='red', linestyle='--')\n",
    "plt.axvline(0, color='red', linestyle='--')\n",
    "plt.show()"
   ]
  },
  {
   "cell_type": "code",
   "execution_count": 24,
   "id": "e30f0c4d",
   "metadata": {},
   "outputs": [
    {
     "name": "stdout",
     "output_type": "stream",
     "text": [
      "Number of negative coefficients in L1: 10\n",
      "Number of negative coefficients in L2: 19\n"
     ]
    }
   ],
   "source": [
    "#count negative coefficients in d and s\n",
    "d_neg = np.sum(d < 0)\n",
    "s_neg = np.sum(s < 0)\n",
    "print(f\"Number of negative coefficients in L1: {d_neg}\")\n",
    "print(f\"Number of negative coefficients in L2: {s_neg}\")"
   ]
  }
 ],
 "metadata": {
  "kernelspec": {
   "display_name": "Python 3",
   "language": "python",
   "name": "python3"
  },
  "language_info": {
   "codemirror_mode": {
    "name": "ipython",
    "version": 3
   },
   "file_extension": ".py",
   "mimetype": "text/x-python",
   "name": "python",
   "nbconvert_exporter": "python",
   "pygments_lexer": "ipython3",
   "version": "3.11.0"
  }
 },
 "nbformat": 4,
 "nbformat_minor": 5
}
